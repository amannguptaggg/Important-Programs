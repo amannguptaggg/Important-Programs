{
 "cells": [
  {
   "cell_type": "code",
   "execution_count": 1,
   "metadata": {},
   "outputs": [
    {
     "name": "stdout",
     "output_type": "stream",
     "text": [
      "Subject: Invite: ATAL FDP on 'The Master Class- Artificial Intelligence and Deep learning' on 31st May 2021\n",
      "\n",
      "Hello Aman Gupta\n",
      " Your Microsoft Id and Password is : \n",
      " Id: bvduimed.atal1@bharatividyapeeth.edu\n",
      " Password :Atal2021@may\n",
      "\n",
      " IMPORTANT Do not change the MS Team Password shared with you\n",
      "\n",
      "Subject: Invite: ATAL FDP on 'The Master Class- Artificial Intelligence and Deep learning' on 31st May 2021\n",
      "\n",
      "Hello Fun\n",
      " Your Microsoft Id and Password is : \n",
      " Id: bvduimed.atal2@bharatividyapeeth.edu\n",
      " Password :Atal2021@may\n",
      "\n",
      " IMPORTANT Do not change the MS Team Password shared with you\n",
      "\n",
      "Subject: Invite: ATAL FDP on 'The Master Class- Artificial Intelligence and Deep learning' on 31st May 2021\n",
      "\n",
      "Hello Swati Gupta\n",
      " Your Microsoft Id and Password is : \n",
      " Id: bvduimed.atal3@bharatividyapeeth.edu\n",
      " Password :Atal2021@may\n",
      "\n",
      " IMPORTANT Do not change the MS Team Password shared with you\n",
      "\n"
     ]
    }
   ],
   "source": [
    "import pandas as pd\n",
    "import smtplib\n",
    "\n",
    "  \n",
    "\n",
    "your_email = \"outlook mail\"\n",
    "your_password = \"passs\"\n",
    "  \n",
    "\n",
    "server = smtplib.SMTP('smtp-mail.outlook.com',port = '587')\n",
    "server.ehlo()\n",
    "server.starttls()  \n",
    "\n",
    "server.login(your_email, your_password)\n",
    "  \n",
    "\n",
    "\n",
    "email_list = pd.read_excel('gmailList.xlsx',engine='openpyxl')\n",
    "userid_list = pd.read_excel('userIds.xlsx',engine='openpyxl')\n",
    "  \n",
    "\n",
    "names = email_list['Name']\n",
    "emails = email_list['Email']\n",
    "usernames = userid_list['Username']\n",
    "passwords = userid_list['Password']\n",
    "\n",
    "for i in range(len(emails)):\n",
    "  \n",
    "    \n",
    "    name = names[i]\n",
    "    email = emails[i]\n",
    "    username = usernames[i]\n",
    "    password = passwords[i]\n",
    "    \n",
    "    # the message to be emailed\n",
    "    subject = \"Invite: ATAL FDP on 'The Master Class- Artificial Intelligence and Deep learning' on 31st May 2021\"\n",
    "    msg = \"Hello \" + name + \"\\n Your Microsoft Id and Password is : \\n Id: \"+ username+\"\\n Password :\"+ password +\"\\n\\n IMPORTANT Do not change the MS Team Password shared with you\"\n",
    "    message = 'Subject: {}\\n\\n{}'.format(subject, msg)\n",
    "    print(message+\"\\n\")\n",
    "    \n",
    "    msg = msg.encode('ascii', 'ignore')\n",
    "#     server.sendmail(your_email, [email], message)\n",
    "  \n",
    "\n",
    "server.close()"
   ]
  },
  {
   "cell_type": "code",
   "execution_count": null,
   "metadata": {},
   "outputs": [],
   "source": []
  }
 ],
 "metadata": {
  "kernelspec": {
   "display_name": "Python 3",
   "language": "python",
   "name": "python3"
  },
  "language_info": {
   "codemirror_mode": {
    "name": "ipython",
    "version": 3
   },
   "file_extension": ".py",
   "mimetype": "text/x-python",
   "name": "python",
   "nbconvert_exporter": "python",
   "pygments_lexer": "ipython3",
   "version": "3.8.5"
  }
 },
 "nbformat": 4,
 "nbformat_minor": 4
}
